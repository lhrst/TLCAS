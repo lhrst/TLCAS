{
 "cells": [
  {
   "cell_type": "code",
   "execution_count": 10,
   "metadata": {},
   "outputs": [
    {
     "name": "stdout",
     "output_type": "stream",
     "text": [
      "time cost 2.002716064453125e-05 s\n"
     ]
    }
   ],
   "source": [
    "import time\n",
    "\n",
    "time_start=time.time()\n",
    "\n",
    "time_end=time.time()\n",
    "print('time cost',time_end-time_start,'s')"
   ]
  },
  {
   "cell_type": "code",
   "execution_count": 11,
   "metadata": {},
   "outputs": [],
   "source": [
    "import os,django\n",
    "import gensim\n",
    "import pandas as pd\n",
    "from gensim.models.doc2vec import Doc2Vec"
   ]
  },
  {
   "cell_type": "code",
   "execution_count": 14,
   "metadata": {},
   "outputs": [
    {
     "name": "stdout",
     "output_type": "stream",
     "text": [
      "time cost 0.2873406410217285 s\n",
      "time cost 0.0023779869079589844 s\n",
      "time cost 6.604194641113281e-05 s\n",
      "time cost 0.5267882347106934 s\n",
      "time cost 0.06092691421508789 s\n"
     ]
    }
   ],
   "source": [
    "time_start = list(range(10))\n",
    "time_start[1]=time.time()\n",
    "model = Doc2Vec.load('doc2vec_model.model')\n",
    "time_start[2]=time.time()\n",
    "os.chdir(os.path.abspath(os.path.join(os.getcwd(), \"../../..\")))\n",
    "os.environ.setdefault(\"DJANGO_SETTINGS_MODULE\", \"TLCAS.settings\")\n",
    "os.environ[\"DJANGO_ALLOW_ASYNC_UNSAFE\"] = \"true\"\n",
    "django.setup()\n",
    "time_start[3]=time.time()\n",
    "from papers.models import *\n",
    "time_start[4]=time.time()\n",
    "os.chdir('./papers/static/doc2vec_recommendation')\n",
    "Papers = list(PaperInfo.objects.all())\n",
    "time_start[5]=time.time()\n",
    "inferred_vector_dm = model.infer_vector(Papers[13].abstract.split(','))\n",
    "sims = model.docvecs.most_similar([inferred_vector_dm], topn=10)\n",
    "sims\n",
    "time_start[6]=time.time()\n",
    "for i in range(1, 6):\n",
    "    print('time cost',time_start[i+1]-time_start[i],'s')"
   ]
  },
  {
   "cell_type": "code",
   "execution_count": 11,
   "metadata": {},
   "outputs": [
    {
     "name": "stdout",
     "output_type": "stream",
     "text": [
      "time cost 0.003226041793823242 s\n"
     ]
    }
   ],
   "source": [
    "time_start=time.time()\n",
    "inferred_vector_dm = model.infer_vector(Papers[13].abstract.split(','))\n",
    "sims = model.docvecs.most_similar([inferred_vector_dm], topn=10)\n",
    "sims\n",
    "time_end=time.time()\n",
    "print('time cost',time_end-time_start,'s')"
   ]
  },
  {
   "cell_type": "code",
   "execution_count": 21,
   "metadata": {},
   "outputs": [
    {
     "data": {
      "text/plain": [
       "<gensim.models.keyedvectors.Word2VecKeyedVectors at 0x7fd0c0a00a60>"
      ]
     },
     "execution_count": 21,
     "metadata": {},
     "output_type": "execute_result"
    }
   ],
   "source": [
    "model.wv"
   ]
  },
  {
   "cell_type": "code",
   "execution_count": 27,
   "metadata": {},
   "outputs": [],
   "source": [
    "dic = {}"
   ]
  },
  {
   "cell_type": "code",
   "execution_count": 28,
   "metadata": {},
   "outputs": [],
   "source": [
    "dic[1] = 0\n",
    "dic[2] = 19999"
   ]
  },
  {
   "cell_type": "code",
   "execution_count": 22,
   "metadata": {},
   "outputs": [
    {
     "name": "stdout",
     "output_type": "stream",
     "text": [
      "1\n",
      "2\n"
     ]
    }
   ],
   "source": [
    "for key in dic:\n",
    "    print(key)\n",
    "    "
   ]
  },
  {
   "cell_type": "code",
   "execution_count": 12,
   "metadata": {},
   "outputs": [],
   "source": [
    "time_start = list(range(10))\n",
    "time_start[1]=time.time()\n",
    "model = Doc2Vec.load('doc2vec_model.model')\n",
    "time_start[2]=time.time()\n",
    "os.chdir(os.path.abspath(os.path.join(os.getcwd(), \"../../..\")))\n",
    "os.environ.setdefault(\"DJANGO_SETTINGS_MODULE\", \"TLCAS.settings\")\n",
    "os.environ[\"DJANGO_ALLOW_ASYNC_UNSAFE\"] = \"true\"\n",
    "django.setup()\n",
    "time_start[3]=time.time()\n",
    "from papers.models import *\n",
    "time_start[4]=time.time()\n",
    "os.chdir('./papers/static/doc2vec_recommendation')\n",
    "Papers = list(PaperInfo.objects.all())\n",
    "time_start[5]=time.time()\n",
    "inferred_vector_dm = model.infer_vector(Papers[13].abstract.split(','))"
   ]
  },
  {
   "cell_type": "code",
   "execution_count": 14,
   "metadata": {},
   "outputs": [],
   "source": [
    "sims = model.docvecs.most_similar([inferred_vector_dm], topn=10)"
   ]
  },
  {
   "cell_type": "code",
   "execution_count": 15,
   "metadata": {},
   "outputs": [
    {
     "data": {
      "text/plain": [
       "[(25586, 0.16126875579357147),\n",
       " (15946, 0.15966330468654633),\n",
       " (2831, 0.15459869801998138),\n",
       " (13643, 0.15262752771377563),\n",
       " (2213, 0.15172742307186127),\n",
       " (13895, 0.15165087580680847),\n",
       " (17645, 0.15138472616672516),\n",
       " (3629, 0.15049545466899872),\n",
       " (6468, 0.15032997727394104),\n",
       " (14616, 0.14891290664672852)]"
      ]
     },
     "execution_count": 15,
     "metadata": {},
     "output_type": "execute_result"
    }
   ],
   "source": [
    "sims"
   ]
  },
  {
   "cell_type": "code",
   "execution_count": 23,
   "metadata": {},
   "outputs": [
    {
     "data": {
      "text/plain": [
       "{1: 0, 2: 19999}"
      ]
     },
     "execution_count": 23,
     "metadata": {},
     "output_type": "execute_result"
    }
   ],
   "source": [
    "dic"
   ]
  },
  {
   "cell_type": "code",
   "execution_count": 29,
   "metadata": {},
   "outputs": [],
   "source": [
    "dic = sorted(dic.items(), key = lambda kv:(kv[1], kv[0]), reverse=True)"
   ]
  },
  {
   "cell_type": "code",
   "execution_count": 31,
   "metadata": {},
   "outputs": [],
   "source": [
    "li = [1, 2, 3, 5]"
   ]
  },
  {
   "cell_type": "code",
   "execution_count": 32,
   "metadata": {},
   "outputs": [
    {
     "data": {
      "text/plain": [
       "[1, 2, 3, 5]"
      ]
     },
     "execution_count": 32,
     "metadata": {},
     "output_type": "execute_result"
    }
   ],
   "source": [
    "li"
   ]
  },
  {
   "cell_type": "code",
   "execution_count": 33,
   "metadata": {},
   "outputs": [
    {
     "data": {
      "text/plain": [
       "True"
      ]
     },
     "execution_count": 33,
     "metadata": {},
     "output_type": "execute_result"
    }
   ],
   "source": [
    "1 in li"
   ]
  },
  {
   "cell_type": "code",
   "execution_count": 34,
   "metadata": {},
   "outputs": [
    {
     "data": {
      "text/plain": [
       "True"
      ]
     },
     "execution_count": 34,
     "metadata": {},
     "output_type": "execute_result"
    }
   ],
   "source": [
    "2 in li"
   ]
  },
  {
   "cell_type": "code",
   "execution_count": 44,
   "metadata": {},
   "outputs": [],
   "source": [
    "model = Doc2Vec.load('./hello/1.model')"
   ]
  },
  {
   "cell_type": "code",
   "execution_count": 45,
   "metadata": {},
   "outputs": [
    {
     "data": {
      "text/plain": [
       "<gensim.models.doc2vec.Doc2Vec at 0x7f93376f42e0>"
      ]
     },
     "execution_count": 45,
     "metadata": {},
     "output_type": "execute_result"
    }
   ],
   "source": [
    "model"
   ]
  },
  {
   "cell_type": "code",
   "execution_count": null,
   "metadata": {},
   "outputs": [],
   "source": []
  }
 ],
 "metadata": {
  "kernelspec": {
   "display_name": "Python 3",
   "language": "python",
   "name": "python3"
  },
  "language_info": {
   "codemirror_mode": {
    "name": "ipython",
    "version": 3
   },
   "file_extension": ".py",
   "mimetype": "text/x-python",
   "name": "python",
   "nbconvert_exporter": "python",
   "pygments_lexer": "ipython3",
   "version": "3.8.3"
  }
 },
 "nbformat": 4,
 "nbformat_minor": 4
}
