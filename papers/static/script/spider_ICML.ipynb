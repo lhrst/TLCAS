{
 "cells": [
  {
   "cell_type": "code",
   "execution_count": null,
   "metadata": {},
   "outputs": [],
   "source": [
    "import pandas as pd\n",
    "import requests\n",
    "import random\n",
    "from bs4 import BeautifulSoup\n",
    "from selenium import webdriver\n",
    "from selenium.webdriver.chrome.options import Options\n",
    "import time\n",
    "import re"
   ]
  },
  {
   "cell_type": "code",
   "execution_count": null,
   "metadata": {
    "collapsed": true
   },
   "outputs": [],
   "source": [
    "##注意！每次使用当前block会重置数据集\n",
    "train_data = pd.DataFrame(columns=['year','title','author','abstract','link','pdf'])\n",
    "train_data.to_csv('ICML.csv')\n",
    "#读取现在有的数据集\n",
    "dataset=pd.read_csv('ICML.csv')"
   ]
  },
  {
   "cell_type": "code",
   "execution_count": null,
   "metadata": {
    "scrolled": true
   },
   "outputs": [],
   "source": [
    "#设置虚拟浏览器。\n",
    "chrome_options = Options()\n",
    "chrome_options.add_argument('--headless')\n",
    "chrome_options.add_argument('--disable-gpu')\n",
    "driver = webdriver.Chrome(chrome_options=chrome_options)\n",
    "#driver = webdriver.Chrome()"
   ]
  },
  {
   "cell_type": "code",
   "execution_count": null,
   "metadata": {
    "scrolled": true
   },
   "outputs": [],
   "source": [
    "def spider_ICML(year,web):\n",
    "    html=requests.get(web)\n",
    "    pattern = re.compile(r'http://proceedings.mlr.press/[0-9a-zA-Z]+/[0-9a-zA-Z]+.html')\n",
    "    result1 = pattern.findall(html.text)\n",
    "    lists = list(set(result1))\n",
    "    wrong = range(len(lists))\n",
    "    t = 0\n",
    "    while True:\n",
    "        print('第'+str(year)+'年的第'+str(t)+'次循环')\n",
    "        localtime = time.asctime( time.localtime(time.time()))\n",
    "        print(localtime)\n",
    "        t = t+1\n",
    "        if len(wrong) == 0:\n",
    "            break;\n",
    "        wrongs = wrong\n",
    "        wrong = []\n",
    "        dataset=pd.read_csv('ICML.csv')\n",
    "        for i in range(len(wrongs)):\n",
    "            try:               \n",
    "                link = lists[wrongs[i]].replace('\\n','');\n",
    "                print(link+'  start!')\n",
    "                if dataset[dataset.link == link].notnull()['abstract'].size != 0:\n",
    "                    continue\n",
    "                driver.get(lists[wrongs[i]].replace('\\n',''))\n",
    "                html = driver.find_element_by_xpath(\"//*\").get_attribute(\"outerHTML\")\n",
    "                soup = BeautifulSoup(html, 'html.parser')\n",
    "                year = str(year)\n",
    "                title = ''\n",
    "                name = ''\n",
    "                pdf = ''\n",
    "                abstract = ''\n",
    "                for thing in soup.find_all(class_='post-content'):\n",
    "                    title = thing.h1.text\n",
    "                    for names in thing.find_all(id='authors'):\n",
    "                        name = names.text.replace('\\n','').replace(';','').strip()\n",
    "                    for abstracts in thing.find_all(id='abstract'):\n",
    "                        abstract = abstracts.text.replace('\\n','').strip()\n",
    "                pattern = re.compile(r'http://proceedings.mlr.press/[0-9a-zA-Z]+/[0-9a-zA-Z/]+.pdf')\n",
    "                result1 = pattern.findall(html)\n",
    "                pdf = result1[0]\n",
    "                dataset = dataset.append([{'year':year,'title':title,'author':name,'abstract':abstract,'link':link,'pdf':pdf}])\n",
    "                dataset.to_csv('ICML.csv')\n",
    "                print(lists[wrongs[i]].replace('\\n','') + ' success!!!   '+'title is '+ title)\n",
    "            except:\n",
    "                wrong.append(wrongs[i])\n",
    "                print('something went wrong with : ' + lists[wrongs[i]].replace('\\n',''))\n",
    "                continue"
   ]
  },
  {
   "cell_type": "code",
   "execution_count": null,
   "metadata": {
    "collapsed": true
   },
   "outputs": [],
   "source": [
    "spider_ICML(2019,'http://proceedings.mlr.press/v97/')\n",
    "spider_ICML(2018,'http://proceedings.mlr.press/v80/')\n",
    "spider_ICML(2017,'http://proceedings.mlr.press/v70/')\n",
    "spider_ICML(2016,'http://proceedings.mlr.press/v48/')\n",
    "spider_ICML(2015,'http://proceedings.mlr.press/v37/')\n",
    "spider_ICML(2014,'http://proceedings.mlr.press/v32/')\n",
    "spider_ICML(2013,'http://proceedings.mlr.press/v28/')"
   ]
  }
 ],
 "metadata": {
  "kernelspec": {
   "name": "Python 3.8.2 64-bit",
   "display_name": "Python 3.8.2 64-bit",
   "metadata": {
    "interpreter": {
     "hash": "5edc29c2ed010d6458d71a83433b383a96a8cbd3efe8531bc90c4b8a5b8bcec9"
    }
   }
  },
  "language_info": {
   "codemirror_mode": {
    "name": "ipython",
    "version": 3
   },
   "file_extension": ".py",
   "mimetype": "text/x-python",
   "name": "python",
   "nbconvert_exporter": "python",
   "pygments_lexer": "ipython3",
   "version": "3.8.2-final"
  }
 },
 "nbformat": 4,
 "nbformat_minor": 2
}
